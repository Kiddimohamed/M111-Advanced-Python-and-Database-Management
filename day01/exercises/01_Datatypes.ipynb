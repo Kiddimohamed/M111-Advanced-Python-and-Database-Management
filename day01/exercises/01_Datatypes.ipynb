{
 "cells": [
  {
   "cell_type": "markdown",
   "metadata": {},
   "source": [
    "# Datatypes exercises"
   ]
  },
  {
   "cell_type": "markdown",
   "metadata": {},
   "source": [
    "## Exercise 1"
   ]
  },
  {
   "cell_type": "markdown",
   "metadata": {},
   "source": [
    "Write the following mathematical formula in Python:\n",
    "\n",
    "\\begin{align}\n",
    " result = 6a^3 - \\frac{8b^2 }{4c} + 11\n",
    "\\end{align}\n",
    "\n",
    "```python\n",
    "a = 2\n",
    "b = 3\n",
    "c = 2\n",
    "```\n",
    "\n",
    "> write your formula as \n",
    "```python\n",
    "result = 50\n",
    "```\n",
    "It must verify\n",
    "\n",
    "```python\n",
    "# >>> assert result == 50\n",
    "\n"
   ]
  },
  {
   "cell_type": "code",
   "execution_count": 3,
   "metadata": {},
   "outputs": [],
   "source": [
    "a = 2\n",
    "b = 3\n",
    "c = 2\n",
    "result = (6*pow(a,3))-((8*pow(b,2))/(4*c))+11\n",
    "assert result == 50\n"
   ]
  },
  {
   "cell_type": "markdown",
   "metadata": {},
   "source": [
    "## Exercise 2"
   ]
  },
  {
   "cell_type": "markdown",
   "metadata": {},
   "source": [
    "Explain why the folowing assertion fails"
   ]
  },
  {
   "cell_type": "code",
   "execution_count": 15,
   "metadata": {},
   "outputs": [
    {
     "name": "stdout",
     "output_type": "stream",
     "text": [
      "0.10000000000000001 \n",
      "0.20000000000000001 \n",
      "0.29999999999999999 \n"
     ]
    }
   ],
   "source": [
    "#\"assert (0.1 + 0.2 == 0.3)\"\n",
    "print(f\"{0.1:.17f} \")\n",
    "print(f\"{0.2:.17f} \")\n",
    "print(f\"{0.3:.17f} \")\n",
    "\n",
    "# 0.1+0.2 is not equal to 0.3 so that's why the result is false"
   ]
  },
  {
   "cell_type": "markdown",
   "metadata": {},
   "source": [
    "## Exercise 3"
   ]
  },
  {
   "cell_type": "markdown",
   "metadata": {},
   "source": [
    "Write a Python program to sum all the items in a list"
   ]
  },
  {
   "cell_type": "code",
   "execution_count": 4,
   "metadata": {},
   "outputs": [],
   "source": [
    "#Code Here\n",
    "def sum_list(list):\n",
    "    sum=0\n",
    "    for x in list :\n",
    "        sum += x\n",
    "    return sum\n",
    "    \n",
    "assert sum_list([10, 20, -1]) == 29"
   ]
  },
  {
   "cell_type": "markdown",
   "metadata": {},
   "source": [
    "## Exercise 4"
   ]
  },
  {
   "cell_type": "markdown",
   "metadata": {},
   "source": [
    "Write a program that asks how long it took to run 10 km today. The program continues to ask how long (in minutes) it took for additional runs, until the user enters q. At that point, the program exits — but only after calculating and displaying the average time that the 10 km run took.  \n",
    "\n",
    "\n",
    "Example:\n",
    "```\n",
    "Enter 10 km run time: 15\n",
    "Enter 10 km run time: 20\n",
    "Enter 10 km run time: 10\n",
    "Enter 10 km run time: q\n",
    "\n",
    "Average of 15.0, over 3 runs\n",
    "```"
   ]
  },
  {
   "cell_type": "code",
   "execution_count": 5,
   "metadata": {},
   "outputs": [
    {
     "name": "stdout",
     "output_type": "stream",
     "text": [
      "Enter 10 km run time: \n",
      "12\n",
      "Enter 10 km run time: \n",
      "1\n",
      "Enter 10 km run time: \n",
      "10\n",
      "Enter 10 km run time: \n",
      "q\n",
      "['12', '1', '10']\n",
      "Average of  7.666666666666667 , over  3  runs\n"
     ]
    }
   ],
   "source": [
    "c=0\n",
    "list=[]\n",
    "somme=0\n",
    "length=0\n",
    "while c != 'q':\n",
    "    print(\"Enter 10 km run time: \")\n",
    "    c=input()\n",
    "    if c!= 'q':\n",
    "        list.append(c)\n",
    "        somme += int(c)\n",
    "\n",
    "print(list)\n",
    "\n",
    "length=len(list)\n",
    "average=somme/length\n",
    "print(\"Average of \",average,\", over \",length,\" runs\")"
   ]
  },
  {
   "cell_type": "markdown",
   "metadata": {},
   "source": [
    "## Exercise 5"
   ]
  },
  {
   "cell_type": "markdown",
   "metadata": {},
   "source": [
    "Write a function that takes a string and returns the sorted string."
   ]
  },
  {
   "cell_type": "code",
   "execution_count": 18,
   "metadata": {},
   "outputs": [
    {
     "data": {
      "text/plain": [
       "'ddffhjjjkknnn'"
      ]
     },
     "execution_count": 18,
     "metadata": {},
     "output_type": "execute_result"
    }
   ],
   "source": [
    "def sort_string(s):\n",
    "    lst = [s[i] for i in range(len(s))]\n",
    "    lst.sort()\n",
    "    a=''.join(lst)\n",
    "    return a\n",
    "\n",
    "\n",
    "b=sort_string(\"hjdnfkjndkfjn\")\n",
    "\n",
    "b\n",
    "#assert sort_string(\"cab\") == \"abc\""
   ]
  },
  {
   "cell_type": "markdown",
   "metadata": {},
   "source": [
    "## Exercise 6"
   ]
  },
  {
   "cell_type": "markdown",
   "metadata": {},
   "source": [
    "Write a function that take a string of multiple words and returns the position of the word with most repeated letters"
   ]
  },
  {
   "cell_type": "code",
   "execution_count": 3,
   "metadata": {},
   "outputs": [
    {
     "data": {
      "text/plain": [
       "5"
      ]
     },
     "execution_count": 3,
     "metadata": {},
     "output_type": "execute_result"
    }
   ],
   "source": [
    "from collections import Counter\n",
    "\n",
    "def wwmrl(s):\n",
    "    tmp = {}\n",
    "    for word in words:\n",
    "        c = Counter(word).most_common(1)\n",
    "    tmp[word] = c[0][1]\n",
    "  # Return dict key with highest value\n",
    "    return words.index(max(tmp, key = tmp.get))\n",
    "words=['thiiiiiis', 'iiis', 'an', 'elementary', 'test', 'exampleeeeeeeeeeeee']\n",
    "wwmrl(words)\n",
    "#assert wwmrl(['this', 'is', 'an', 'elementary', 'test', 'example']) == 3"
   ]
  },
  {
   "cell_type": "markdown",
   "metadata": {},
   "source": [
    "## Exercise 7"
   ]
  },
  {
   "cell_type": "markdown",
   "metadata": {},
   "source": [
    "1. Create a tuple\n",
    "2. Unpack the tuple in multiple variables"
   ]
  },
  {
   "cell_type": "code",
   "execution_count": 4,
   "metadata": {},
   "outputs": [],
   "source": [
    "tuplex=4,7,2\n",
    "x,y,z=tuplex"
   ]
  },
  {
   "cell_type": "markdown",
   "metadata": {},
   "source": [
    "## Exercise 8"
   ]
  },
  {
   "cell_type": "markdown",
   "metadata": {},
   "source": [
    "Write a Python program to sort a tuple by its float element.  \n",
    "Sample data: `[('item1', '12.20'), ('item2', '15.10'), ('item3', '24.5')]`  \n",
    "Expected Output: `[('item3', '24.5'), ('item2', '15.10'), ('item1', '12.20')]`"
   ]
  },
  {
   "cell_type": "code",
   "execution_count": 7,
   "metadata": {},
   "outputs": [
    {
     "name": "stdout",
     "output_type": "stream",
     "text": [
      "[('item3', '24.5'), ('item2', '15.10'), ('item1', '12.20')]\n"
     ]
    }
   ],
   "source": [
    "tuple1=[('item1', '12.20'), ('item2', '15.10'), ('item3', '24.5')]\n",
    "tuple1_sorted=sorted(tuplex, key=lambda x: float(x[1]), reverse=True)\n",
    "print(tuple1_sorted)"
   ]
  },
  {
   "cell_type": "markdown",
   "metadata": {},
   "source": [
    "## Exercise 9"
   ]
  },
  {
   "cell_type": "markdown",
   "metadata": {},
   "source": [
    "Write a Python script to concatenate dictionaries to create a new one."
   ]
  },
  {
   "cell_type": "code",
   "execution_count": 11,
   "metadata": {},
   "outputs": [
    {
     "name": "stdout",
     "output_type": "stream",
     "text": [
      "{1: 10, 2: 20, 3: 30, 4: 40, 5: 50, 6: 60}\n"
     ]
    },
    {
     "data": {
      "text/plain": [
       "'\"Expected Result : {1: 10, 2: 20, 3: 30, 4: 40, 5: 50, 6: 60}'"
      ]
     },
     "execution_count": 11,
     "metadata": {},
     "output_type": "execute_result"
    }
   ],
   "source": [
    "\"\"\"Sample Dictionary\"\"\"\n",
    "dic1={1:10, 2:20}\n",
    "dic2={3:30, 4:40}\n",
    "dic3={5:50,6:60}\n",
    "dic4 = {**dic1, **dic2, **dic3}\n",
    "print(dic4)\n",
    "\"\"\"\"Expected Result : {1: 10, 2: 20, 3: 30, 4: 40, 5: 50, 6: 60}\"\"\""
   ]
  },
  {
   "cell_type": "markdown",
   "metadata": {},
   "source": [
    "## Exercise 10"
   ]
  },
  {
   "cell_type": "markdown",
   "metadata": {},
   "source": [
    "Write a Python program to combine two dictionary adding values for common keys."
   ]
  },
  {
   "cell_type": "code",
   "execution_count": 13,
   "metadata": {},
   "outputs": [
    {
     "name": "stdout",
     "output_type": "stream",
     "text": [
      "{'a': 400, 'b': 400, 'c': 300, 'd': 400}\n"
     ]
    }
   ],
   "source": [
    "d1 = {'a': 100, 'b': 200, 'c':300}\n",
    "d2 = {'a': 300, 'b': 200, 'd':400}\n",
    "def comb_dict(d1,d2): \n",
    "    d={}\n",
    "    for keys in d1.keys():\n",
    "        d[keys]=d1[keys]\n",
    "        for keyss in d2.keys():\n",
    "            if keys==keyss:\n",
    "                d[keys]=d1[keys]+d2[keyss]\n",
    "    for keyss in d2.keys():\n",
    "        d[keyss]=d2[keyss]\n",
    "        for keys in d1.keys():\n",
    "            if keyss==keys:\n",
    "                d[keyss]=d2[keyss]+d1[keys]\n",
    "    return d\n",
    "l=comb_dict(d1,d2)\n",
    "print(l)\n",
    "\"\"\"\"Sample output: {'a': 400, 'b': 400, 'd': 400, 'c': 300}\"\"\""
   ]
  },
  {
   "cell_type": "markdown",
   "metadata": {},
   "source": [
    "## Exercise 11"
   ]
  },
  {
   "cell_type": "markdown",
   "metadata": {},
   "source": [
    "Write a Python program to extract values from a given dictionaries and create a list of lists from those values.\n",
    "\n",
    "Original Dictionary:  \n",
    "`[{'student_id': 1, 'name': 'Jean Castro', 'class': 'V'}, {'student_id': 2, 'name': 'Lula Powell', 'class': 'V'}, {'student_id': 3, 'name': 'Brian Howell', 'class': 'VI'}, {'student_id': 4, 'name': 'Lynne Foster', 'class': 'VI'}, {'student_id': 5, 'name': 'Zachary Simon', 'class': 'VII'}]`  \n",
    "Output:  \n",
    "`[[1, 'Jean Castro', 'V'], [2, 'Lula Powell', 'V'], [3, 'Brian Howell', 'VI'], [4, 'Lynne Foster', 'VI'], [5, 'Zachary Simon', 'VII']]`"
   ]
  },
  {
   "cell_type": "code",
   "execution_count": 15,
   "metadata": {},
   "outputs": [
    {
     "name": "stdout",
     "output_type": "stream",
     "text": [
      "[[1, 'Jean Castro', 'V'], [2, 'Lula Powell', 'V'], [3, 'Brian Howell', 'VI'], [4, 'Lynne Foster', 'VI'], [5, 'Zachary Simon', 'VII']]\n"
     ]
    }
   ],
   "source": [
    "data = [{'student_id': 1, 'name': 'Jean Castro', 'class': 'V'}, {'student_id': 2, 'name': 'Lula Powell', 'class': 'V'}, {'student_id': 3, 'name': 'Brian Howell', 'class': 'VI'}, {'student_id': 4, 'name': 'Lynne Foster', 'class': 'VI'}, {'student_id': 5, 'name': 'Zachary Simon', 'class': 'VII'}]\n",
    "list1=[]\n",
    "for element in data:\n",
    "    sub_l=[]\n",
    "    for key in element.keys():\n",
    "        sub_l.append(element[key])\n",
    "    list1.append(sub_l)\n",
    "print(list1)"
   ]
  }
 ],
 "metadata": {
  "kernelspec": {
   "display_name": "Python 3 (ipykernel)",
   "language": "python",
   "name": "python3"
  },
  "language_info": {
   "codemirror_mode": {
    "name": "ipython",
    "version": 3
   },
   "file_extension": ".py",
   "mimetype": "text/x-python",
   "name": "python",
   "nbconvert_exporter": "python",
   "pygments_lexer": "ipython3",
   "version": "3.10.7"
  },
  "vscode": {
   "interpreter": {
    "hash": "916dbcbb3f70747c44a77c7bcd40155683ae19c65e1c03b4aa3499c5328201f1"
   }
  }
 },
 "nbformat": 4,
 "nbformat_minor": 2
}
